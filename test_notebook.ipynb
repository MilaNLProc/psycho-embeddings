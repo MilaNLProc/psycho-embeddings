{
 "cells": [
  {
   "cell_type": "code",
   "execution_count": 1,
   "id": "34b17af5-816c-4f29-90c7-7e2aa3b9a90f",
   "metadata": {},
   "outputs": [],
   "source": [
    "%load_ext autoreload\n",
    "%autoreload 2"
   ]
  },
  {
   "cell_type": "code",
   "execution_count": 2,
   "id": "5c830698-b497-4b30-8339-91d031106c8a",
   "metadata": {},
   "outputs": [
    {
     "name": "stderr",
     "output_type": "stream",
     "text": [
      "comet_ml is installed but `COMET_API_KEY` is not set.\n"
     ]
    }
   ],
   "source": [
    "import os\n",
    "from psycho_embeddings.fresh_embedder import ContextualizedEmbedder\n",
    "import numpy as np\n",
    "import pandas as pd\n",
    "from glob import glob\n",
    "import pickle\n",
    "import gc\n",
    "from tqdm import tqdm\n",
    "from operator import itemgetter"
   ]
  },
  {
   "cell_type": "code",
   "execution_count": 3,
   "id": "ee3aa519-f5d0-4cdb-b53b-b185c94b460d",
   "metadata": {},
   "outputs": [
    {
     "name": "stderr",
     "output_type": "stream",
     "text": [
      "loading configuration file config.json from cache at /Users/attanasiog/.cache/huggingface/hub/models--bert-base-cased/snapshots/a8d257ba9925ef39f3036bfc338acf5283c512d9/config.json\n",
      "Model config BertConfig {\n",
      "  \"_name_or_path\": \"bert-base-cased\",\n",
      "  \"architectures\": [\n",
      "    \"BertForMaskedLM\"\n",
      "  ],\n",
      "  \"attention_probs_dropout_prob\": 0.1,\n",
      "  \"classifier_dropout\": null,\n",
      "  \"gradient_checkpointing\": false,\n",
      "  \"hidden_act\": \"gelu\",\n",
      "  \"hidden_dropout_prob\": 0.1,\n",
      "  \"hidden_size\": 768,\n",
      "  \"initializer_range\": 0.02,\n",
      "  \"intermediate_size\": 3072,\n",
      "  \"layer_norm_eps\": 1e-12,\n",
      "  \"max_position_embeddings\": 512,\n",
      "  \"model_type\": \"bert\",\n",
      "  \"num_attention_heads\": 12,\n",
      "  \"num_hidden_layers\": 12,\n",
      "  \"output_hidden_states\": true,\n",
      "  \"pad_token_id\": 0,\n",
      "  \"position_embedding_type\": \"absolute\",\n",
      "  \"transformers_version\": \"4.22.1\",\n",
      "  \"type_vocab_size\": 2,\n",
      "  \"use_cache\": true,\n",
      "  \"vocab_size\": 28996\n",
      "}\n",
      "\n",
      "loading weights file pytorch_model.bin from cache at /Users/attanasiog/.cache/huggingface/hub/models--bert-base-cased/snapshots/a8d257ba9925ef39f3036bfc338acf5283c512d9/pytorch_model.bin\n",
      "Some weights of the model checkpoint at bert-base-cased were not used when initializing BertModel: ['cls.predictions.transform.dense.weight', 'cls.predictions.transform.dense.bias', 'cls.seq_relationship.weight', 'cls.predictions.bias', 'cls.seq_relationship.bias', 'cls.predictions.transform.LayerNorm.bias', 'cls.predictions.transform.LayerNorm.weight', 'cls.predictions.decoder.weight']\n",
      "- This IS expected if you are initializing BertModel from the checkpoint of a model trained on another task or with another architecture (e.g. initializing a BertForSequenceClassification model from a BertForPreTraining model).\n",
      "- This IS NOT expected if you are initializing BertModel from the checkpoint of a model that you expect to be exactly identical (initializing a BertForSequenceClassification model from a BertForSequenceClassification model).\n",
      "All the weights of BertModel were initialized from the model checkpoint at bert-base-cased.\n",
      "If your task is similar to the task the model of the checkpoint was trained on, you can already use BertModel for predictions without further training.\n",
      "loading configuration file config.json from cache at /Users/attanasiog/.cache/huggingface/hub/models--bert-base-cased/snapshots/a8d257ba9925ef39f3036bfc338acf5283c512d9/config.json\n",
      "Model config BertConfig {\n",
      "  \"_name_or_path\": \"bert-base-cased\",\n",
      "  \"architectures\": [\n",
      "    \"BertForMaskedLM\"\n",
      "  ],\n",
      "  \"attention_probs_dropout_prob\": 0.1,\n",
      "  \"classifier_dropout\": null,\n",
      "  \"gradient_checkpointing\": false,\n",
      "  \"hidden_act\": \"gelu\",\n",
      "  \"hidden_dropout_prob\": 0.1,\n",
      "  \"hidden_size\": 768,\n",
      "  \"initializer_range\": 0.02,\n",
      "  \"intermediate_size\": 3072,\n",
      "  \"layer_norm_eps\": 1e-12,\n",
      "  \"max_position_embeddings\": 512,\n",
      "  \"model_type\": \"bert\",\n",
      "  \"num_attention_heads\": 12,\n",
      "  \"num_hidden_layers\": 12,\n",
      "  \"pad_token_id\": 0,\n",
      "  \"position_embedding_type\": \"absolute\",\n",
      "  \"transformers_version\": \"4.22.1\",\n",
      "  \"type_vocab_size\": 2,\n",
      "  \"use_cache\": true,\n",
      "  \"vocab_size\": 28996\n",
      "}\n",
      "\n",
      "loading file vocab.txt from cache at /Users/attanasiog/.cache/huggingface/hub/models--bert-base-cased/snapshots/a8d257ba9925ef39f3036bfc338acf5283c512d9/vocab.txt\n",
      "loading file tokenizer.json from cache at /Users/attanasiog/.cache/huggingface/hub/models--bert-base-cased/snapshots/a8d257ba9925ef39f3036bfc338acf5283c512d9/tokenizer.json\n",
      "loading file added_tokens.json from cache at None\n",
      "loading file special_tokens_map.json from cache at None\n",
      "loading file tokenizer_config.json from cache at /Users/attanasiog/.cache/huggingface/hub/models--bert-base-cased/snapshots/a8d257ba9925ef39f3036bfc338acf5283c512d9/tokenizer_config.json\n",
      "loading configuration file config.json from cache at /Users/attanasiog/.cache/huggingface/hub/models--bert-base-cased/snapshots/a8d257ba9925ef39f3036bfc338acf5283c512d9/config.json\n",
      "Model config BertConfig {\n",
      "  \"_name_or_path\": \"bert-base-cased\",\n",
      "  \"architectures\": [\n",
      "    \"BertForMaskedLM\"\n",
      "  ],\n",
      "  \"attention_probs_dropout_prob\": 0.1,\n",
      "  \"classifier_dropout\": null,\n",
      "  \"gradient_checkpointing\": false,\n",
      "  \"hidden_act\": \"gelu\",\n",
      "  \"hidden_dropout_prob\": 0.1,\n",
      "  \"hidden_size\": 768,\n",
      "  \"initializer_range\": 0.02,\n",
      "  \"intermediate_size\": 3072,\n",
      "  \"layer_norm_eps\": 1e-12,\n",
      "  \"max_position_embeddings\": 512,\n",
      "  \"model_type\": \"bert\",\n",
      "  \"num_attention_heads\": 12,\n",
      "  \"num_hidden_layers\": 12,\n",
      "  \"pad_token_id\": 0,\n",
      "  \"position_embedding_type\": \"absolute\",\n",
      "  \"transformers_version\": \"4.22.1\",\n",
      "  \"type_vocab_size\": 2,\n",
      "  \"use_cache\": true,\n",
      "  \"vocab_size\": 28996\n",
      "}\n",
      "\n"
     ]
    }
   ],
   "source": [
    "model = ContextualizedEmbedder(\"bert-base-cased\", max_length=300, device=\"cpu\")"
   ]
  },
  {
   "cell_type": "code",
   "execution_count": 4,
   "id": "16a2091a-9285-410d-9b6a-f22e57beadb8",
   "metadata": {},
   "outputs": [],
   "source": [
    "def find_index_for_word(word, data):\n",
    "    \"\"\"\n",
    "    Given a word and a dataframe, finds the idxs of that word in the dataframe\n",
    "    \"\"\"\n",
    "    return data[data[\"words\"] == word].index.tolist()\n",
    "\n",
    "def get_average_word_embeddings(word, data, embeds):\n",
    "    \"\"\"\n",
    "    Given a word, a data, and the embeddings, it averages the embeddings of that word\n",
    "    \"\"\"\n",
    "    idxs = find_index_for_word(word, data)\n",
    "    if len(idxs) > 1:\n",
    "        return np.average(itemgetter(*idxs)(embeds), axis=0)\n",
    "    else:\n",
    "        return np.array(embeds[idxs[0]]) # idxs is a list of lists so we access the first element"
   ]
  },
  {
   "cell_type": "code",
   "execution_count": 5,
   "id": "96c1faed-1e3f-4976-99de-9754c89bdc58",
   "metadata": {},
   "outputs": [],
   "source": [
    "data = pd.DataFrame({\"words\" : [\"cat\", \"dog\", \"cat\"], \"target_text\" : [\"the cat is on the table\", \"the dog is on the table\", \"the cat is on the table\"]})"
   ]
  },
  {
   "cell_type": "code",
   "execution_count": 6,
   "id": "800389cb-7bd2-4759-94bc-fbd55f4b1448",
   "metadata": {},
   "outputs": [],
   "source": [
    "SIZE_CHUNKS = 2  #chunk row size\n",
    "FOLDER_NAME = \"bert_embeddings\""
   ]
  },
  {
   "cell_type": "code",
   "execution_count": 7,
   "id": "e096acae-ccdb-441f-af11-7f87401e3901",
   "metadata": {},
   "outputs": [],
   "source": [
    "layers_of_interest = [0, 1, 2, 3, 4, 5, 6, 7, 8, 9, 10, 11, 12]\n",
    "list_df = [data[i:i+SIZE_CHUNKS] for i in range(0,data.shape[0],SIZE_CHUNKS)]"
   ]
  },
  {
   "cell_type": "code",
   "execution_count": 8,
   "id": "393f4c99-1043-44ed-adda-875e49a05f67",
   "metadata": {},
   "outputs": [
    {
     "data": {
      "text/plain": [
       "[  words              target_text\n",
       " 0   cat  the cat is on the table\n",
       " 1   dog  the dog is on the table,\n",
       "   words              target_text\n",
       " 2   cat  the cat is on the table]"
      ]
     },
     "execution_count": 8,
     "metadata": {},
     "output_type": "execute_result"
    }
   ],
   "source": [
    "list_df"
   ]
  },
  {
   "cell_type": "markdown",
   "id": "57f8eec2-a5a4-447b-99cc-b99563f5b8b0",
   "metadata": {},
   "source": [
    "# Create Embeddings for The Enitre Dataset"
   ]
  },
  {
   "cell_type": "code",
   "execution_count": 30,
   "id": "9fb4bf99-fdec-41e9-bcea-1b7df1f28799",
   "metadata": {},
   "outputs": [
    {
     "name": "stderr",
     "output_type": "stream",
     "text": [
      "100%|██████████| 2/2 [01:37<00:00, 48.66s/it]\n"
     ]
    },
    {
     "data": {
      "application/json": {
       "ascii": false,
       "bar_format": null,
       "colour": null,
       "elapsed": 0.006679058074951172,
       "initial": 0,
       "n": 0,
       "ncols": null,
       "nrows": null,
       "postfix": null,
       "prefix": "Text tokenization",
       "rate": null,
       "total": 2,
       "unit": "ex",
       "unit_divisor": 1000,
       "unit_scale": false
      },
      "application/vnd.jupyter.widget-view+json": {
       "model_id": "e8896018f04e49b39dca4008afc8efb6",
       "version_major": 2,
       "version_minor": 0
      },
      "text/plain": [
       "Text tokenization:   0%|          | 0/2 [00:00<?, ?ex/s]"
      ]
     },
     "metadata": {},
     "output_type": "display_data"
    },
    {
     "name": "stderr",
     "output_type": "stream",
     "text": [
      " 50%|█████     | 1/2 [00:00<00:00,  1.82it/s]"
     ]
    },
    {
     "data": {
      "application/json": {
       "ascii": false,
       "bar_format": null,
       "colour": null,
       "elapsed": 0.006723880767822266,
       "initial": 0,
       "n": 0,
       "ncols": null,
       "nrows": null,
       "postfix": null,
       "prefix": "Text tokenization",
       "rate": null,
       "total": 1,
       "unit": "ex",
       "unit_divisor": 1000,
       "unit_scale": false
      },
      "application/vnd.jupyter.widget-view+json": {
       "model_id": "33649a275a9a4acf8e05e1caa717789b",
       "version_major": 2,
       "version_minor": 0
      },
      "text/plain": [
       "Text tokenization:   0%|          | 0/1 [00:00<?, ?ex/s]"
      ]
     },
     "metadata": {},
     "output_type": "display_data"
    },
    {
     "name": "stderr",
     "output_type": "stream",
     "text": [
      "100%|██████████| 2/2 [00:00<00:00,  2.35it/s]"
     ]
    }
   ],
   "source": [
    "pbar = tqdm(total=len(list_df), position=0)\n",
    "\n",
    "for index, sub_portion_od_data in enumerate(list_df):\n",
    "\n",
    "    #############################\n",
    "    # DUMPING EMBEDDING ON DISK #\n",
    "    #############################\n",
    "\n",
    "    df_slice_embedded = embeddings = model.embed(\n",
    "        sub_portion_od_data[\"target_text\"].tolist(),\n",
    "        sub_portion_od_data[\"words\"].tolist(),\n",
    "        layers_of_interest,\n",
    "        batch_size=8,\n",
    "        averaging=True,\n",
    "        return_static=True,\n",
    "        show_progress=True\n",
    "    )\n",
    "\n",
    "    for layer in layers_of_interest:\n",
    "        os.makedirs(f\"{FOLDER_NAME}/{layer}/temp/\", exist_ok=True)\n",
    "\n",
    "        with open(f\"{FOLDER_NAME}/{layer}/temp/bert_embeddings_{index}\", \"wb\") as filino:\n",
    "            pickle.dump((df_slice_embedded[layer]), filino)\n",
    "\n",
    "    if index%10==0:\n",
    "        gc.collect()\n",
    "    pbar.update(1)"
   ]
  },
  {
   "cell_type": "code",
   "execution_count": 26,
   "id": "5a650cd5-3107-41b6-b3a5-b7503c4ae9cb",
   "metadata": {},
   "outputs": [
    {
     "data": {
      "text/plain": [
       "14"
      ]
     },
     "execution_count": 26,
     "metadata": {},
     "output_type": "execute_result"
    }
   ],
   "source": [
    "len(embeddings)"
   ]
  },
  {
   "cell_type": "code",
   "execution_count": 27,
   "id": "8f736fa9-5744-4e17-ae0d-bb47ab0ab526",
   "metadata": {},
   "outputs": [
    {
     "data": {
      "text/plain": [
       "(768,)"
      ]
     },
     "execution_count": 27,
     "metadata": {},
     "output_type": "execute_result"
    }
   ],
   "source": [
    "embeddings[-1][0].shape"
   ]
  },
  {
   "cell_type": "markdown",
   "id": "b7240410-019d-48e9-ba12-d0c51ed98dd2",
   "metadata": {},
   "source": [
    "# Reconstruct and Save Contextualzied Embeddings"
   ]
  },
  {
   "cell_type": "code",
   "execution_count": 12,
   "id": "6c0df410-dd4b-4d33-a86d-c1a2368b25c8",
   "metadata": {},
   "outputs": [
    {
     "name": "stderr",
     "output_type": "stream",
     "text": [
      "\n",
      "100%|██████████| 2/2 [00:03<00:00,  1.55s/it]\u001b[A\n",
      "100%|██████████| 2/2 [00:00<00:00, 1092.27it/s]\n",
      "100%|██████████| 2/2 [00:00<00:00, 3813.00it/s]\n",
      "100%|██████████| 2/2 [00:00<00:00, 4306.27it/s]\n",
      "100%|██████████| 2/2 [00:00<00:00, 5581.24it/s]\n",
      "100%|██████████| 2/2 [00:00<00:00, 10459.61it/s]\n",
      "100%|██████████| 2/2 [00:00<00:00, 6043.67it/s]\n",
      "100%|██████████| 2/2 [00:00<00:00, 5645.09it/s]\n",
      "100%|██████████| 2/2 [00:00<00:00, 1370.46it/s]\n",
      "100%|██████████| 2/2 [00:00<00:00, 2080.51it/s]\n",
      "100%|██████████| 2/2 [00:00<00:00, 3760.02it/s]\n",
      "100%|██████████| 2/2 [00:00<00:00, 3629.86it/s]\n",
      "100%|██████████| 2/2 [00:00<00:00, 6154.52it/s]\n",
      "100%|██████████| 2/2 [00:00<00:00, 4440.77it/s]\n",
      "Layer: 100%|██████████| 13/13 [00:00<00:00, 206.27it/s]\n"
     ]
    }
   ],
   "source": [
    "for LAYER in tqdm(range(13), desc=\"Layer\"):\n",
    "    # We load all the embeddings from disk, in order and reconstruct the actual embedding for a specific layer for the entire dataframe.\n",
    "    \n",
    "    emb_files = sorted(glob(f\"{FOLDER_NAME}/{LAYER}/temp/*\"), key=lambda x: int(os.path.basename(x).split(\"_\")[-1]))\n",
    "    assert len(emb_files) == len(list_df) # sanity check\n",
    "    \n",
    "    all_the_embeddings = []\n",
    "    pbar = tqdm(total=len(list_df), position=0)\n",
    "    \n",
    "    for ff in emb_files:\n",
    "        with open(ff, \"rb\") as filino:\n",
    "            ldata = pickle.load(filino)\n",
    "            pbar.update(1)\n",
    "            for value in ldata:\n",
    "                if len(value) == 1:\n",
    "                    all_the_embeddings.append(np.array(value[0]))\n",
    "                else:\n",
    "                    all_the_embeddings.append(np.array(value))\n",
    "    pbar.close()\n",
    "    \n",
    "    all_the_embeddings = np.array(all_the_embeddings)\n",
    "    \n",
    "\n",
    "    with open(f'{FOLDER_NAME}/contextualized_embeddings_bert_{LAYER}_layer.npy', 'wb') as f:\n",
    "        np.save(f, all_the_embeddings)\n",
    "\n",
    "    del all_the_embeddings\n",
    "\n",
    "    embeds = np.load(f\"{FOLDER_NAME}/contextualized_embeddings_bert_{LAYER}_layer.npy\")\n",
    "\n",
    "    ##################\n",
    "    # MAP 2 Sentence #\n",
    "    ##################\n",
    "        \n",
    "    # NOTE:    \n",
    "    # NOTE: This is probably dataset specific? but also, do we really need this? seems to be only the index dumped on disk?\n",
    "    # NOTE:\n",
    "    \n",
    "    map_sentrepl2emb = {\n",
    "        (row[\"words\"], row[\"target_text\"]): idx for idx, row in data.iterrows()\n",
    "    }\n",
    "\n",
    "    with open(f\"{FOLDER_NAME}/map_sentrepl2embbert_{LAYER}.pkl\", \"wb\") as file_to_save:\n",
    "        pickle.dump(map_sentrepl2emb, file_to_save)\n",
    "\n",
    "    "
   ]
  },
  {
   "cell_type": "markdown",
   "id": "7b8496df-0691-4ab5-8aec-fe0424e5df7f",
   "metadata": {},
   "source": [
    "### Prototype Embeddings"
   ]
  },
  {
   "cell_type": "code",
   "execution_count": 17,
   "id": "ba6aac96-f857-4b63-bbef-10175113766f",
   "metadata": {},
   "outputs": [
    {
     "name": "stderr",
     "output_type": "stream",
     "text": [
      "\n",
      "100%|██████████| 2/2 [00:00<00:00, 889.66it/s][A\n",
      "100%|██████████| 2/2 [00:00<00:00, 1416.28it/s]\n",
      "100%|██████████| 2/2 [00:00<00:00, 1435.67it/s]\n",
      "100%|██████████| 2/2 [00:00<00:00, 1649.35it/s]\n",
      "100%|██████████| 2/2 [00:00<00:00, 1368.67it/s]\n",
      "100%|██████████| 2/2 [00:00<00:00, 1586.65it/s]\n",
      "100%|██████████| 2/2 [00:00<00:00, 2298.88it/s]\n",
      "100%|██████████| 2/2 [00:00<00:00, 1257.29it/s]\n",
      "100%|██████████| 2/2 [00:00<00:00, 1247.19it/s]\n",
      "100%|██████████| 2/2 [00:00<00:00, 1369.35it/s]\n",
      "100%|██████████| 2/2 [00:00<00:00, 1108.43it/s]\n",
      "100%|██████████| 2/2 [00:00<00:00, 1082.68it/s]\n",
      "100%|██████████| 2/2 [00:00<00:00, 957.60it/s]\n",
      "Layer: 100%|██████████| 13/13 [00:00<00:00, 168.43it/s]\n"
     ]
    }
   ],
   "source": [
    "for LAYER in tqdm(range(13), desc=\"Layer\"):\n",
    "    emb_files = sorted(glob(f\"{FOLDER_NAME}/{LAYER}/temp/*\"), key=lambda x: int(os.path.basename(x).split(\"_\")[-1]))\n",
    "    assert len(emb_files) == len(list_df) # sanity check\n",
    "\n",
    "    ##############################\n",
    "    # Build Prototype Embeddings #\n",
    "    ##############################\n",
    "    \n",
    "    embeds = np.load(f\"{FOLDER_NAME}/contextualized_embeddings_bert_{LAYER}_layer.npy\")\n",
    "\n",
    "    mega_embeddings = {}\n",
    "    pbar = tqdm(total=len(data[\"words\"].unique()), position=0)\n",
    "    for word in data[\"words\"].unique():\n",
    "        emb = get_average_word_embeddings(word, data, embeds)\n",
    "        mega_embeddings[word] = emb \n",
    "        pbar.update(1)\n",
    "    pbar.close()\n",
    "\n",
    "    with open(f\"{FOLDER_NAME}/prototype_embeddings_bert_{LAYER}.pkl\", \"wb\") as filino:\n",
    "        pickle.dump(mega_embeddings, filino)\n"
   ]
  },
  {
   "cell_type": "code",
   "execution_count": 16,
   "id": "f3464271-5923-4584-85eb-e51321ca85d4",
   "metadata": {},
   "outputs": [],
   "source": []
  },
  {
   "cell_type": "code",
   "execution_count": null,
   "id": "7a60fa2b-3d8f-4718-aad9-b9c394a2c841",
   "metadata": {},
   "outputs": [],
   "source": []
  }
 ],
 "metadata": {
  "kernelspec": {
   "display_name": "Python 3",
   "language": "python",
   "name": "python3"
  },
  "language_info": {
   "codemirror_mode": {
    "name": "ipython",
    "version": 3
   },
   "file_extension": ".py",
   "mimetype": "text/x-python",
   "name": "python",
   "nbconvert_exporter": "python",
   "pygments_lexer": "ipython3",
   "version": "3.9.12"
  }
 },
 "nbformat": 4,
 "nbformat_minor": 5
}
